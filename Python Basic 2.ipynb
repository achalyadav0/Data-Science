{
 "cells": [
  {
   "cell_type": "markdown",
   "id": "f56c6f3f",
   "metadata": {},
   "source": [
    "# Q1. How do you comment code in Python? What are the different types of comments?\n"
   ]
  },
  {
   "cell_type": "code",
   "execution_count": null,
   "id": "7797f584",
   "metadata": {},
   "outputs": [],
   "source": [
    "\"\"\" We have three types of commments in python:-\n",
    "    i) Single Line Comments\n",
    "    ii) Multi-line comments\n",
    "    iii) Docstring \"\"\""
   ]
  },
  {
   "cell_type": "code",
   "execution_count": null,
   "id": "313acfe9",
   "metadata": {},
   "outputs": [],
   "source": [
    "\"\"\" Single Line Comments-\n",
    "    use of hashtags # to define a comment and it contineous until the finish of the line \"\"\""
   ]
  },
  {
   "cell_type": "code",
   "execution_count": 2,
   "id": "af5b2096",
   "metadata": {},
   "outputs": [],
   "source": [
    "# this is a single line comment"
   ]
  },
  {
   "cell_type": "raw",
   "id": "44ea4edf",
   "metadata": {},
   "source": [
    "Multi-Line Comments-\n",
    "use of hashtags # multiple times to construct multiple lines of comments"
   ]
  },
  {
   "cell_type": "code",
   "execution_count": 5,
   "id": "00f46c85",
   "metadata": {},
   "outputs": [],
   "source": [
    "# this\n",
    "# is \n",
    "# a\n",
    "# multi-line comment"
   ]
  },
  {
   "cell_type": "raw",
   "id": "0b7ee07d",
   "metadata": {},
   "source": [
    "Docstring-\n",
    "we put the comments in the tripple quotes \"\"\""
   ]
  },
  {
   "cell_type": "code",
   "execution_count": null,
   "id": "cf7a29b7",
   "metadata": {},
   "outputs": [],
   "source": [
    "\"\"\"inside the tripple quotes the whole string will be considered as comments\"\"\""
   ]
  },
  {
   "cell_type": "markdown",
   "id": "a820066d",
   "metadata": {},
   "source": [
    "# Q2. What are variables in Python? How do you declare and assign values to variables?"
   ]
  },
  {
   "cell_type": "code",
   "execution_count": 24,
   "id": "3dfe1914",
   "metadata": {},
   "outputs": [
    {
     "data": {
      "text/plain": [
       "' Variables can be defined as a container that can store some data.\\nIn python we do not need to declare a variable, it is created when we assign some it.\\nPython itself understand its type.\\ne.g. '"
      ]
     },
     "execution_count": 24,
     "metadata": {},
     "output_type": "execute_result"
    }
   ],
   "source": [
    "\"\"\" Variables can be defined as a container that can store some data.\n",
    "In python we do not need to declare a variable, it is created when we assign some it.\n",
    "Python itself understand its type.\n",
    "e.g. \"\"\""
   ]
  },
  {
   "cell_type": "code",
   "execution_count": 8,
   "id": "08c695cb",
   "metadata": {},
   "outputs": [],
   "source": [
    "var=50"
   ]
  },
  {
   "cell_type": "markdown",
   "id": "6cb99951",
   "metadata": {},
   "source": [
    "# Q3. How do you convert one data type to another in Python?"
   ]
  },
  {
   "cell_type": "code",
   "execution_count": 25,
   "id": "dd50c851",
   "metadata": {},
   "outputs": [
    {
     "data": {
      "text/plain": [
       "'Using typecasting we can convert one data type to another in python\\ne.g.'"
      ]
     },
     "execution_count": 25,
     "metadata": {},
     "output_type": "execute_result"
    }
   ],
   "source": [
    "\"\"\"Using typecasting we can convert one data type to another in python\n",
    "e.g.\"\"\""
   ]
  },
  {
   "cell_type": "code",
   "execution_count": 9,
   "id": "26681401",
   "metadata": {},
   "outputs": [],
   "source": [
    "x = int(\"3\") # x will be 3"
   ]
  },
  {
   "cell_type": "markdown",
   "id": "1f57f9ab",
   "metadata": {},
   "source": [
    "# Q4. How do you write and execute a Python script from the command line?"
   ]
  },
  {
   "cell_type": "code",
   "execution_count": null,
   "id": "c7fb693f",
   "metadata": {},
   "outputs": [],
   "source": [
    "\"\"\"Open the command line and type the word python followed by the path to your script file \n",
    "like this:\n",
    "          python first_script.py\n",
    "Then hit the ENTER button from the keyboard.\"\"\""
   ]
  },
  {
   "cell_type": "markdown",
   "id": "b170256d",
   "metadata": {},
   "source": [
    "# Q5. Given a list my_list = [1, 2, 3, 4, 5], write the code to slice the list and obtain the sub-list [2, 3]."
   ]
  },
  {
   "cell_type": "code",
   "execution_count": 10,
   "id": "5316361c",
   "metadata": {},
   "outputs": [],
   "source": [
    "my_list = [1,2,3,4,5]"
   ]
  },
  {
   "cell_type": "code",
   "execution_count": 14,
   "id": "6a59be89",
   "metadata": {},
   "outputs": [
    {
     "data": {
      "text/plain": [
       "[1, 2, 3, 4, 5]"
      ]
     },
     "execution_count": 14,
     "metadata": {},
     "output_type": "execute_result"
    }
   ],
   "source": [
    "my_list[:]"
   ]
  },
  {
   "cell_type": "code",
   "execution_count": 15,
   "id": "5b9a1477",
   "metadata": {},
   "outputs": [
    {
     "data": {
      "text/plain": [
       "[2, 3]"
      ]
     },
     "execution_count": 15,
     "metadata": {},
     "output_type": "execute_result"
    }
   ],
   "source": [
    "my_list[1:3]"
   ]
  },
  {
   "cell_type": "markdown",
   "id": "1f8c7819",
   "metadata": {},
   "source": [
    "# Q6. What is a complex number in mathematics, and how is it represented in Python?"
   ]
  },
  {
   "cell_type": "code",
   "execution_count": null,
   "id": "673cc177",
   "metadata": {},
   "outputs": [],
   "source": [
    "\"\"\"These are the numbers in the form of a+ib.\n",
    "Where a,b are real and i is imagnary part. ( i is the square root of -1)\"\"\""
   ]
  },
  {
   "cell_type": "markdown",
   "id": "ac0dcea6",
   "metadata": {},
   "source": [
    "# Q7. What is the correct way to declare a variable named age and assign the value 25 to it?"
   ]
  },
  {
   "cell_type": "code",
   "execution_count": null,
   "id": "a7e7f155",
   "metadata": {},
   "outputs": [],
   "source": [
    "\"\"\"first declare the type of the variable \n",
    "i.e. int in this case \n",
    "then we assigne value to it\n",
    "age = 25\n",
    "but in python we just declare the variable and assign the value, python itself identifies the datatype of the variable\"\"\""
   ]
  },
  {
   "cell_type": "code",
   "execution_count": 20,
   "id": "a319b75e",
   "metadata": {},
   "outputs": [],
   "source": [
    "age=25"
   ]
  },
  {
   "cell_type": "code",
   "execution_count": 21,
   "id": "76c2825d",
   "metadata": {},
   "outputs": [
    {
     "data": {
      "text/plain": [
       "25"
      ]
     },
     "execution_count": 21,
     "metadata": {},
     "output_type": "execute_result"
    }
   ],
   "source": [
    "age"
   ]
  },
  {
   "cell_type": "markdown",
   "id": "4dde07e2",
   "metadata": {},
   "source": [
    "# Q8. Declare a variable named price and assign the value 9.99 to it. What data type does this variable belong to?"
   ]
  },
  {
   "cell_type": "code",
   "execution_count": 23,
   "id": "4f532215",
   "metadata": {},
   "outputs": [],
   "source": [
    "price=9.99"
   ]
  },
  {
   "cell_type": "code",
   "execution_count": 24,
   "id": "04330140",
   "metadata": {},
   "outputs": [
    {
     "data": {
      "text/plain": [
       "float"
      ]
     },
     "execution_count": 24,
     "metadata": {},
     "output_type": "execute_result"
    }
   ],
   "source": [
    "type(price)"
   ]
  },
  {
   "cell_type": "code",
   "execution_count": 25,
   "id": "1c8a1bde",
   "metadata": {},
   "outputs": [
    {
     "data": {
      "text/plain": [
       "'price is of float data type'"
      ]
     },
     "execution_count": 25,
     "metadata": {},
     "output_type": "execute_result"
    }
   ],
   "source": [
    "'''price is of float data type'''"
   ]
  },
  {
   "cell_type": "markdown",
   "id": "eccf6b95",
   "metadata": {},
   "source": [
    "# Q9. Create a variable named name and assign your full name to it as a string. How would you print the value of this variable?"
   ]
  },
  {
   "cell_type": "code",
   "execution_count": 26,
   "id": "91bef5f3",
   "metadata": {},
   "outputs": [],
   "source": [
    "name=\"Achal Yadav\""
   ]
  },
  {
   "cell_type": "code",
   "execution_count": 27,
   "id": "8bd15de0",
   "metadata": {},
   "outputs": [
    {
     "data": {
      "text/plain": [
       "'Achal Yadav'"
      ]
     },
     "execution_count": 27,
     "metadata": {},
     "output_type": "execute_result"
    }
   ],
   "source": [
    "name"
   ]
  },
  {
   "cell_type": "code",
   "execution_count": 28,
   "id": "6ae3dea8",
   "metadata": {},
   "outputs": [
    {
     "name": "stdout",
     "output_type": "stream",
     "text": [
      "Achal Yadav\n"
     ]
    }
   ],
   "source": [
    "print(name)"
   ]
  },
  {
   "cell_type": "markdown",
   "id": "56e8d1a6",
   "metadata": {},
   "source": [
    "# Q10. Given the string \"Hello, World!\", extract the substring \"World\"."
   ]
  },
  {
   "cell_type": "code",
   "execution_count": 2,
   "id": "cb1e8079",
   "metadata": {},
   "outputs": [],
   "source": [
    "string=\"Hello, World!\""
   ]
  },
  {
   "cell_type": "code",
   "execution_count": 3,
   "id": "5bf02965",
   "metadata": {},
   "outputs": [
    {
     "data": {
      "text/plain": [
       "'World'"
      ]
     },
     "execution_count": 3,
     "metadata": {},
     "output_type": "execute_result"
    }
   ],
   "source": [
    "string[7:12]"
   ]
  },
  {
   "cell_type": "markdown",
   "id": "eaf22deb",
   "metadata": {},
   "source": [
    "# Q11. Create a variable named \"is_student\" and assign it a boolean value indicating whether you are currently a student or not."
   ]
  },
  {
   "cell_type": "code",
   "execution_count": 19,
   "id": "edece604",
   "metadata": {},
   "outputs": [
    {
     "name": "stdout",
     "output_type": "stream",
     "text": [
      "<class 'bool'>\n"
     ]
    }
   ],
   "source": [
    "is_student=bool\n",
    "print(is_student)"
   ]
  },
  {
   "cell_type": "code",
   "execution_count": 22,
   "id": "e7b5b22b",
   "metadata": {},
   "outputs": [
    {
     "name": "stdout",
     "output_type": "stream",
     "text": [
      "type yes if you are you a student yes\n",
      "True\n"
     ]
    }
   ],
   "source": [
    "var=input(\"type yes if you are you a student \")\n",
    "if var=='yes':\n",
    "    is_student=True\n",
    "else: \n",
    "    is_student=False\n",
    "print(is_student)"
   ]
  }
 ],
 "metadata": {
  "kernelspec": {
   "display_name": "Python 3 (ipykernel)",
   "language": "python",
   "name": "python3"
  },
  "language_info": {
   "codemirror_mode": {
    "name": "ipython",
    "version": 3
   },
   "file_extension": ".py",
   "mimetype": "text/x-python",
   "name": "python",
   "nbconvert_exporter": "python",
   "pygments_lexer": "ipython3",
   "version": "3.9.13"
  }
 },
 "nbformat": 4,
 "nbformat_minor": 5
}
