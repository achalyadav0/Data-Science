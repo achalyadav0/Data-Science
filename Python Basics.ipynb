{
 "cells": [
  {
   "cell_type": "markdown",
   "id": "7e26bec4",
   "metadata": {},
   "source": [
    "# Q1. Create one variable containing following types of data"
   ]
  },
  {
   "cell_type": "raw",
   "id": "ec82d8ca",
   "metadata": {},
   "source": [
    "(i) String\n",
    "(ii) List\n",
    "(iii) Float\n",
    "(iv) Tuple"
   ]
  },
  {
   "cell_type": "code",
   "execution_count": 2,
   "id": "61ddee98",
   "metadata": {},
   "outputs": [
    {
     "name": "stdout",
     "output_type": "stream",
     "text": [
      "abcd\n",
      "<class 'str'>\n"
     ]
    }
   ],
   "source": [
    "# varibale s for string\n",
    "s='abcd'\n",
    "print(s)\n",
    "print(type(s))"
   ]
  },
  {
   "cell_type": "code",
   "execution_count": 3,
   "id": "48e82cd0",
   "metadata": {},
   "outputs": [
    {
     "name": "stdout",
     "output_type": "stream",
     "text": [
      "[2, 3, 4, 5]\n",
      "<class 'list'>\n"
     ]
    }
   ],
   "source": [
    "# varibale l for list\n",
    "l=[2,3,4,5]\n",
    "print(l)\n",
    "print(type(l))"
   ]
  },
  {
   "cell_type": "code",
   "execution_count": 4,
   "id": "6bea995f",
   "metadata": {},
   "outputs": [
    {
     "name": "stdout",
     "output_type": "stream",
     "text": [
      "2.34\n",
      "<class 'float'>\n"
     ]
    }
   ],
   "source": [
    "# varibale f for float\n",
    "f=2.34\n",
    "print(f)\n",
    "print(type(f))"
   ]
  },
  {
   "cell_type": "code",
   "execution_count": 5,
   "id": "82a007af",
   "metadata": {},
   "outputs": [
    {
     "name": "stdout",
     "output_type": "stream",
     "text": [
      "[2, 3, 4, 5]\n",
      "<class 'tuple'>\n"
     ]
    }
   ],
   "source": [
    "# varibale t for tuple\n",
    "t=(2,3,4)\n",
    "print(l)\n",
    "print(type(t))"
   ]
  },
  {
   "cell_type": "markdown",
   "id": "adc2b30f",
   "metadata": {},
   "source": [
    "# Q2. Given are some following variables containing data:"
   ]
  },
  {
   "cell_type": "markdown",
   "id": "f1b37a34",
   "metadata": {},
   "source": [
    "(i) var1=''\n",
    "(ii) var2='[DS,ML,Python]'\n",
    "(iii) var3=['DS','ML','Python']\n",
    "(iv) var4= 1\n",
    "What will be the data type of the above given variable."
   ]
  },
  {
   "cell_type": "code",
   "execution_count": 8,
   "id": "6810bdca",
   "metadata": {},
   "outputs": [
    {
     "data": {
      "text/plain": [
       "str"
      ]
     },
     "execution_count": 8,
     "metadata": {},
     "output_type": "execute_result"
    }
   ],
   "source": [
    "var1=''\n",
    "type(var1)"
   ]
  },
  {
   "cell_type": "code",
   "execution_count": 9,
   "id": "83f41824",
   "metadata": {},
   "outputs": [
    {
     "data": {
      "text/plain": [
       "str"
      ]
     },
     "execution_count": 9,
     "metadata": {},
     "output_type": "execute_result"
    }
   ],
   "source": [
    "var2='[DS,ML,Python]'\n",
    "type(var2)"
   ]
  },
  {
   "cell_type": "code",
   "execution_count": 11,
   "id": "25946229",
   "metadata": {},
   "outputs": [
    {
     "data": {
      "text/plain": [
       "list"
      ]
     },
     "execution_count": 11,
     "metadata": {},
     "output_type": "execute_result"
    }
   ],
   "source": [
    "var3=['DS','ML','Python']\n",
    "type(var3)"
   ]
  },
  {
   "cell_type": "code",
   "execution_count": 12,
   "id": "4274bd87",
   "metadata": {},
   "outputs": [
    {
     "data": {
      "text/plain": [
       "int"
      ]
     },
     "execution_count": 12,
     "metadata": {},
     "output_type": "execute_result"
    }
   ],
   "source": [
    "var4=1\n",
    "type(var4)"
   ]
  },
  {
   "cell_type": "markdown",
   "id": "dcfc4437",
   "metadata": {},
   "source": [
    "# Q3. Explain the use of the following operators using an example:"
   ]
  },
  {
   "cell_type": "markdown",
   "id": "59423ce6",
   "metadata": {},
   "source": [
    "(i) /\n",
    "(ii) %\n",
    "(iii) //\n",
    "(iv) **"
   ]
  },
  {
   "cell_type": "raw",
   "id": "ba900a50",
   "metadata": {},
   "source": [
    "(i) Division Operator ( / )\n",
    "    It is used for the division of two variables"
   ]
  },
  {
   "cell_type": "code",
   "execution_count": 1,
   "id": "5d6cc664",
   "metadata": {},
   "outputs": [],
   "source": [
    "x=10\n",
    "y=4"
   ]
  },
  {
   "cell_type": "code",
   "execution_count": 2,
   "id": "4c87f1ed",
   "metadata": {},
   "outputs": [
    {
     "data": {
      "text/plain": [
       "2.5"
      ]
     },
     "execution_count": 2,
     "metadata": {},
     "output_type": "execute_result"
    }
   ],
   "source": [
    "x/y"
   ]
  },
  {
   "cell_type": "raw",
   "id": "357f4c65",
   "metadata": {},
   "source": [
    "(ii) Modulus Operator ( % )\n",
    "     It produces a remainder for the integer division"
   ]
  },
  {
   "cell_type": "code",
   "execution_count": 50,
   "id": "7701eb95",
   "metadata": {},
   "outputs": [],
   "source": [
    "x=5\n",
    "y=3"
   ]
  },
  {
   "cell_type": "code",
   "execution_count": 51,
   "id": "934b06ed",
   "metadata": {},
   "outputs": [
    {
     "data": {
      "text/plain": [
       "2"
      ]
     },
     "execution_count": 51,
     "metadata": {},
     "output_type": "execute_result"
    }
   ],
   "source": [
    "x%y"
   ]
  },
  {
   "cell_type": "raw",
   "id": "7cf55ff2",
   "metadata": {},
   "source": [
    "(iii) Floor Division Operator\n",
    "      This operator will divide the first argument by the second and round the result down to the nearest whole           number"
   ]
  },
  {
   "cell_type": "code",
   "execution_count": 13,
   "id": "ef0c9d70",
   "metadata": {},
   "outputs": [],
   "source": [
    "x=11\n",
    "y=2"
   ]
  },
  {
   "cell_type": "code",
   "execution_count": 14,
   "id": "df4474b4",
   "metadata": {},
   "outputs": [
    {
     "data": {
      "text/plain": [
       "5"
      ]
     },
     "execution_count": 14,
     "metadata": {},
     "output_type": "execute_result"
    }
   ],
   "source": [
    "x//y"
   ]
  },
  {
   "cell_type": "raw",
   "id": "86e8ca8f",
   "metadata": {},
   "source": [
    "(iv) Exponentiation Operator\n",
    "     It returns the result of raising the first operand to the power of the second operand"
   ]
  },
  {
   "cell_type": "code",
   "execution_count": 15,
   "id": "2bf6a997",
   "metadata": {},
   "outputs": [],
   "source": [
    "x=5\n",
    "y=2"
   ]
  },
  {
   "cell_type": "code",
   "execution_count": 16,
   "id": "926b086d",
   "metadata": {},
   "outputs": [
    {
     "data": {
      "text/plain": [
       "25"
      ]
     },
     "execution_count": 16,
     "metadata": {},
     "output_type": "execute_result"
    }
   ],
   "source": [
    "x**y"
   ]
  },
  {
   "cell_type": "markdown",
   "id": "39b3bec9",
   "metadata": {},
   "source": [
    "# Q4. Create a list of length 10 of your choice containing multiple types of data. Using for loop print the element and its data type."
   ]
  },
  {
   "cell_type": "code",
   "execution_count": 24,
   "id": "bb8a6494",
   "metadata": {},
   "outputs": [],
   "source": [
    "list=[1,2,'str',3.0,5,'str str','str 34',True,9,'10']"
   ]
  },
  {
   "cell_type": "code",
   "execution_count": 25,
   "id": "af8215b7",
   "metadata": {},
   "outputs": [
    {
     "name": "stdout",
     "output_type": "stream",
     "text": [
      "1\n",
      "2\n",
      "str\n",
      "3.0\n",
      "5\n",
      "str str\n",
      "str 34\n",
      "True\n",
      "9\n",
      "10\n"
     ]
    }
   ],
   "source": [
    "for i in list:\n",
    "    print(i)"
   ]
  },
  {
   "cell_type": "markdown",
   "id": "622f40ce",
   "metadata": {},
   "source": [
    "# Q5. Create a list containing 25 int type data. Using for loop and if-else condition print if the element is divisible by 3 or not."
   ]
  },
  {
   "cell_type": "code",
   "execution_count": 28,
   "id": "c822bf50",
   "metadata": {},
   "outputs": [],
   "source": [
    "list=[*range(1,26)]     #argument-unpacking operator *"
   ]
  },
  {
   "cell_type": "code",
   "execution_count": 63,
   "id": "4a242627",
   "metadata": {},
   "outputs": [
    {
     "name": "stdout",
     "output_type": "stream",
     "text": [
      "1 is not divisible by 3\n",
      "2 is not divisible by 3\n",
      "3 is divisible by 3\n",
      "4 is not divisible by 3\n",
      "5 is not divisible by 3\n",
      "6 is divisible by 3\n",
      "7 is not divisible by 3\n",
      "8 is not divisible by 3\n",
      "9 is divisible by 3\n",
      "10 is not divisible by 3\n",
      "11 is not divisible by 3\n",
      "12 is divisible by 3\n",
      "13 is not divisible by 3\n",
      "14 is not divisible by 3\n",
      "15 is divisible by 3\n",
      "16 is not divisible by 3\n",
      "17 is not divisible by 3\n",
      "18 is divisible by 3\n",
      "19 is not divisible by 3\n",
      "20 is not divisible by 3\n",
      "21 is divisible by 3\n",
      "22 is not divisible by 3\n",
      "23 is not divisible by 3\n",
      "24 is divisible by 3\n",
      "25 is not divisible by 3\n"
     ]
    }
   ],
   "source": [
    "for i in list:\n",
    "    if i%3==0:\n",
    "        print(i ,\"is divisible by 3\" )\n",
    "    else: \n",
    "        print(i,\"is not divisible by 3\")"
   ]
  },
  {
   "cell_type": "markdown",
   "id": "583af9b8",
   "metadata": {},
   "source": [
    "# Q6. What do you understand about mutable and immutable data types? Give examples for both showing this property."
   ]
  },
  {
   "cell_type": "raw",
   "id": "99dbc7e4",
   "metadata": {},
   "source": [
    "Mutable data types are those whose existing values can be modified, e.g. list and  dictionaries"
   ]
  },
  {
   "cell_type": "code",
   "execution_count": 66,
   "id": "e8c386ee",
   "metadata": {},
   "outputs": [],
   "source": [
    "# e.g. of list having 5 elements\n",
    "list=[2,4,5,6,7]\n",
    "#now we want to change the 2nd element i.e 1st index element with value 10\n",
    "list[1]=10"
   ]
  },
  {
   "cell_type": "code",
   "execution_count": 67,
   "id": "3b6115c3",
   "metadata": {},
   "outputs": [
    {
     "data": {
      "text/plain": [
       "[2, 10, 5, 6, 7]"
      ]
     },
     "execution_count": 67,
     "metadata": {},
     "output_type": "execute_result"
    }
   ],
   "source": [
    "list"
   ]
  },
  {
   "cell_type": "raw",
   "id": "4fbc243a",
   "metadata": {},
   "source": [
    "Imutable data types are those whose existing values cannot be modified, e.g. string,int,float"
   ]
  },
  {
   "cell_type": "code",
   "execution_count": 72,
   "id": "28aeb983",
   "metadata": {},
   "outputs": [
    {
     "ename": "TypeError",
     "evalue": "'str' object does not support item assignment",
     "output_type": "error",
     "traceback": [
      "\u001b[0;31m---------------------------------------------------------------------------\u001b[0m",
      "\u001b[0;31mTypeError\u001b[0m                                 Traceback (most recent call last)",
      "\u001b[0;32m/var/folders/_b/ghlsx5kn55g0syhcddkctsc80000gn/T/ipykernel_27506/4208254978.py\u001b[0m in \u001b[0;36m<module>\u001b[0;34m\u001b[0m\n\u001b[1;32m      2\u001b[0m \u001b[0mstr\u001b[0m\u001b[0;34m=\u001b[0m\u001b[0;34m'achal'\u001b[0m\u001b[0;34m\u001b[0m\u001b[0;34m\u001b[0m\u001b[0m\n\u001b[1;32m      3\u001b[0m \u001b[0;31m# now if want to change the first element i.e. 0th index element with A, we will get error\u001b[0m\u001b[0;34m\u001b[0m\u001b[0;34m\u001b[0m\u001b[0m\n\u001b[0;32m----> 4\u001b[0;31m \u001b[0mstr\u001b[0m\u001b[0;34m[\u001b[0m\u001b[0;36m0\u001b[0m\u001b[0;34m]\u001b[0m\u001b[0;34m=\u001b[0m\u001b[0;34m'A'\u001b[0m\u001b[0;34m\u001b[0m\u001b[0;34m\u001b[0m\u001b[0m\n\u001b[0m",
      "\u001b[0;31mTypeError\u001b[0m: 'str' object does not support item assignment"
     ]
    }
   ],
   "source": [
    "# e.g. of string \n",
    "str='achal'\n",
    "# now if want to change the first element i.e. 0th index element with A, we will get error\n",
    "str[0]='A'"
   ]
  },
  {
   "cell_type": "code",
   "execution_count": 73,
   "id": "1e65453a",
   "metadata": {},
   "outputs": [],
   "source": [
    "# but we can assign a completely different value to the str variable (it is allowed in immutable data types)\n",
    "str='Achal'"
   ]
  },
  {
   "cell_type": "code",
   "execution_count": 74,
   "id": "56acad3e",
   "metadata": {},
   "outputs": [
    {
     "data": {
      "text/plain": [
       "'Achal'"
      ]
     },
     "execution_count": 74,
     "metadata": {},
     "output_type": "execute_result"
    }
   ],
   "source": [
    "str"
   ]
  },
  {
   "cell_type": "code",
   "execution_count": null,
   "id": "6bf81fc1",
   "metadata": {},
   "outputs": [],
   "source": []
  }
 ],
 "metadata": {
  "kernelspec": {
   "display_name": "Python 3 (ipykernel)",
   "language": "python",
   "name": "python3"
  },
  "language_info": {
   "codemirror_mode": {
    "name": "ipython",
    "version": 3
   },
   "file_extension": ".py",
   "mimetype": "text/x-python",
   "name": "python",
   "nbconvert_exporter": "python",
   "pygments_lexer": "ipython3",
   "version": "3.9.13"
  }
 },
 "nbformat": 4,
 "nbformat_minor": 5
}
