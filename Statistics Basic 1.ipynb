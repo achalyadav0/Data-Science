{
 "cells": [
  {
   "cell_type": "markdown",
   "id": "4dc801c7",
   "metadata": {},
   "source": [
    "### Q1. What is Statistics?"
   ]
  },
  {
   "cell_type": "code",
   "execution_count": null,
   "id": "e6141c0e",
   "metadata": {},
   "outputs": [],
   "source": [
    "\n",
    "#   Statistics is the science of data, where we collect the data, and analyze it as per our condition or problem.\n",
    "\n",
    "#    Data ==> Statistics ==> Information\n"
   ]
  },
  {
   "cell_type": "markdown",
   "id": "f97a549a",
   "metadata": {},
   "source": [
    "### Q2. Define the different types of statistics and give an example of when each type might be used.\n"
   ]
  },
  {
   "cell_type": "code",
   "execution_count": 6,
   "id": "1e75e345",
   "metadata": {},
   "outputs": [],
   "source": [
    "#   We have two types of statistics- Descriptive and Infrential Statistics\n",
    "\n",
    "#   Descriptive Statistics - It describes the summary of data, i.e. it gives us a description of our data.\n",
    "#                         It must be used when we want description or summary of our data.\n",
    "#                         e.g- i want to calculate the average height of students in my class\n",
    "                         \n",
    "\n",
    "#   Infrential Statistics - It gives us pridiction and conclusion of the population based on the sample data.\n",
    "#                        It must be used when we want to pridict some outcome from the data\n",
    "#                    e.g- i want to analyze the calculated hegiht match with my expectation of hegiht of the entire \n",
    "#                          school"
   ]
  },
  {
   "cell_type": "markdown",
   "id": "9b7fe51f",
   "metadata": {},
   "source": [
    "### Q3. What are the different types of data and how do they differ from each other? Provide an example of each type of data."
   ]
  },
  {
   "cell_type": "code",
   "execution_count": 7,
   "id": "5ed3deb0",
   "metadata": {},
   "outputs": [],
   "source": [
    "#   We have two types of data- \n",
    "\n",
    "#   1.) Quantitative or Numerical data --> This type of data represents numbers and values \n",
    "#                                       like- height, weight, temprature etc.\n",
    "                    \n",
    "#   2.) Qualitative or Categorical data --> This type of data shows characteristic, based on which it can be grouped.\n",
    "#                                        like- Gender (male, female)\n",
    "#                                              Risk (high, low, medium)\n"
   ]
  },
  {
   "cell_type": "markdown",
   "id": "a87524ab",
   "metadata": {},
   "source": [
    "### Q.4  Categorise the following datasets with respect to quantitative and qualitative data types: \n",
    "#### (i) Grading in exam: A+, A, B+, B, C+, C, D, E \n",
    "#### (ii) Colour of mangoes: yellow, green, orange, red\n",
    "#### (iii) Height data of a class: [178.9, 179, 179.5, 176, 177.2, 178.3, 175.8,...]\n",
    "#### (iv) Number of mangoes exported by a farm: [500, 600, 478, 672, ...]\n",
    "\n"
   ]
  },
  {
   "cell_type": "code",
   "execution_count": 8,
   "id": "67a8e05a",
   "metadata": {},
   "outputs": [],
   "source": [
    "#Ans- (i) Qualitative- as it can be grouped \n",
    "#     (ii) Qualitative- as it can be grouped \n",
    "#    (iii) Quantitative- as it is numerical data, represents some numbers\n",
    "#     (iv) Quantitative- as it is numerical data, represents some numbers"
   ]
  },
  {
   "cell_type": "markdown",
   "id": "21be051e",
   "metadata": {},
   "source": [
    "### Q5. Explain the concept of levels of measurement and give an example of a variable for each level.\n",
    "    "
   ]
  },
  {
   "cell_type": "code",
   "execution_count": null,
   "id": "8fe28d29",
   "metadata": {},
   "outputs": [],
   "source": [
    "\n",
    "#   Levels of Measurement also called scale of measurement, is how variables are measured and the realtionship b/w \n",
    "#   the information that these variables store.\n",
    "\n",
    "#   We have 4 levels of measurement:-\n",
    "\n",
    "#   Nominal-It contain the least amount of information, contain catagorized data\n",
    "#           e.g. Gender, Name of city (labled data with mutually exclusive groups)\n",
    "\n",
    "#   Ordinal- It have catagorized and ranked data\n",
    "#          e.g. Top 5 Intellegent Students of a class(ranked data),Coding Level- beginner, intermediate, pro\n",
    "\n",
    "#   Interval- It have catagorized, ranked and evenly spaced data, but don't have a true zero point\n",
    "#          e.g. Temp. in celcius and fahrenheit\n",
    "\n",
    "#   Ratio- It have caatagorized, ranked and evenly spaced data, but have a true zero point\n",
    "#           e.g. Temp. in Kalvin\n"
   ]
  },
  {
   "cell_type": "markdown",
   "id": "51f879de",
   "metadata": {},
   "source": [
    "### Q6. Why is it important to understand the level of measurement when analyzing data? Provide an example to illustrate your answer.\n"
   ]
  },
  {
   "cell_type": "code",
   "execution_count": 10,
   "id": "a47bbe86",
   "metadata": {},
   "outputs": [],
   "source": [
    "#   Based on the level of measurement we choose appropriate stastical methods.\n",
    "\n",
    "#   For example- \n",
    "#   1.)We have data of different cities name (Nominal data) and we want to calculate the central tendency of the \n",
    "#      date then we will use Mode in this case.\n",
    "\n",
    "#   2.)We have data of educational background as high school, UG, PG (Ordinal data) and we want to calculate the\n",
    "#      central tendency of the date then we use Mode, Median in this case.\n",
    "\n",
    "#   3.)We have data of Temp. in celcius (Interval data) and we want to calculate the central tendency of the date \n",
    "#      then we use Arithmatic Mean, Mode and Median in this case.\n",
    "\n",
    "#   4.)We have data of Temp. in Kalvin (Ratio data) and we want to calculate the central tendency of the date then\n",
    "#      we use Mode, Median, Geometric Mean and Arithmatic Mean in this case.    \n"
   ]
  },
  {
   "cell_type": "markdown",
   "id": "c8980f72",
   "metadata": {},
   "source": [
    "### Q7. How nominal data type is different from ordinal data type."
   ]
  },
  {
   "cell_type": "code",
   "execution_count": 11,
   "id": "d2cfbaa1",
   "metadata": {},
   "outputs": [],
   "source": [
    "#   Both nominal and ordinal data type are of Categorical Datatype, that have some characteristics and which can be \n",
    "#   grouped.\n",
    "\n",
    "#   But, Ordinal data have some order or rank while Nominal data cannot be ordered in a sensible way and cannot be\n",
    "#   measured."
   ]
  },
  {
   "cell_type": "markdown",
   "id": "dc784fae",
   "metadata": {},
   "source": [
    "### Q8. Which type of plot can be used to display data in terms of range?"
   ]
  },
  {
   "cell_type": "code",
   "execution_count": null,
   "id": "3db668df",
   "metadata": {},
   "outputs": [],
   "source": [
    "#   A Histogram is the best plot that can be used for data that have numeric range"
   ]
  },
  {
   "cell_type": "markdown",
   "id": "338133fe",
   "metadata": {},
   "source": [
    "### Q9. Describe the difference between descriptive and inferential statistics. Give an example of each type of statistics and explain how they are used."
   ]
  },
  {
   "cell_type": "code",
   "execution_count": null,
   "id": "dc95b96b",
   "metadata": {},
   "outputs": [],
   "source": [
    "#   Descriptive Statistics describes the whole data or population, while Inferential statistics gives us some \n",
    "#   pridictions about the population based on the data.\n",
    "\n",
    "#   Descriptive Statistics includes- Central Tendency, Variability, and Frequency Distributions\n",
    "#   e.g. we could use descriptive statistics to determine the average age, the age distribution, and the age \n",
    "#   standard deviation of a group of individuals if we wanted to summarize their ages.\n",
    "\n",
    "#   Inferential Statistics includes- Regression Analysis, Hypothesis test, Confidence Intervals\n",
    "#   e.g. we could use inferential statistics to assess whether there is a significant difference in the \n",
    "#   outcomes of patients who receive the drug compared to those who receive a placebo if we want to know if \n",
    "#   a new drug is effective."
   ]
  },
  {
   "cell_type": "markdown",
   "id": "3e1efa66",
   "metadata": {},
   "source": [
    "### Q10. What are some common measures of central tendency and variability used in statistics? Explain how each measure can be used to describe a dataset."
   ]
  },
  {
   "cell_type": "code",
   "execution_count": null,
   "id": "83d25822",
   "metadata": {},
   "outputs": [],
   "source": [
    "#   Central tendency is used to describe where the overall center of the data lies or the center of the distribution\n",
    "\n",
    "#   It includes- \n",
    "#   Mean -->that represents the average of the data\n",
    "\n",
    "#   Median --> that represents the middle value of the data\n",
    "\n",
    "#   Mode --> that represents the most frequent value of the data\n",
    "\n",
    "####################################################################################################################\n",
    "\n",
    "#   Variability or Despersion is used to describe the spreed between the numbers of the dataset.\n",
    "\n",
    "#   It includes-\n",
    "#   Range --> that is the difference between the lowest and highest value of the dataset\n",
    "\n",
    "#   Interquertile Range (IQR) --> that is the range of the middle 50% scores in a distribution [ Q3-Q1 ]\n",
    "\n",
    "#   Variance --> that is the average squared difference of the scores from the mean\n",
    "\n",
    "#   Standard deviation --> that is the average amount by which scores differ from the mean and it is the square \n",
    "#                          root of variance\n",
    "    \n",
    "\n"
   ]
  },
  {
   "cell_type": "code",
   "execution_count": null,
   "id": "cc29ef28",
   "metadata": {},
   "outputs": [],
   "source": []
  }
 ],
 "metadata": {
  "kernelspec": {
   "display_name": "Python 3 (ipykernel)",
   "language": "python",
   "name": "python3"
  },
  "language_info": {
   "codemirror_mode": {
    "name": "ipython",
    "version": 3
   },
   "file_extension": ".py",
   "mimetype": "text/x-python",
   "name": "python",
   "nbconvert_exporter": "python",
   "pygments_lexer": "ipython3",
   "version": "3.9.17"
  }
 },
 "nbformat": 4,
 "nbformat_minor": 5
}
