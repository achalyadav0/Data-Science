{
 "cells": [
  {
   "cell_type": "markdown",
   "id": "abaa47e2",
   "metadata": {},
   "source": [
    "### Q1. What is Statistics?"
   ]
  },
  {
   "cell_type": "raw",
   "id": "b053e038",
   "metadata": {},
   "source": [
    "Statistics is the science of data, where we collect the data, and analyze it as per our condition or problem.\n",
    "\n",
    "Data ==> Statistics ==> Information\n"
   ]
  },
  {
   "cell_type": "markdown",
   "id": "66b6929d",
   "metadata": {},
   "source": [
    "### Q2. Define the different types of statistics and give an example of when each type might be used.\n"
   ]
  },
  {
   "cell_type": "raw",
   "id": "82c36505",
   "metadata": {},
   "source": [
    "We have two types of statistics- Descriptive and Infrential Statistics\n",
    "\n",
    "Descriptive Statistics - It describes the summary of data, i.e. it gives us a description of our data.\n",
    "                         It must be used when we want description or summary of our data.\n",
    "                         e.g- i want to calculate the average height of students in my class\n",
    "                         \n",
    "\n",
    "Infrential Statistics - It gives us pridiction and conclusion of the population based on the sample data.\n",
    "                        It must be used when we want to pridict some outcome from the data\n",
    "                   e.g- i want to analyze the calculated hegiht match with my expectation of hegiht of the entire                           school"
   ]
  },
  {
   "cell_type": "markdown",
   "id": "98bef0da",
   "metadata": {},
   "source": [
    "### Q3. What are the different types of data and how do they differ from each other? Provide an example of each type of data."
   ]
  },
  {
   "cell_type": "raw",
   "id": "289039a5",
   "metadata": {},
   "source": [
    "We have two types of data- \n",
    "\n",
    "1.) Quantitative or Numerical data --> This type of data represents numbers and values \n",
    "                                       like- height, weight, temprature etc.\n",
    "                    \n",
    "2.) Qualitative or Categorical data --> This type of data shows characteristic, based on which it can be grouped.\n",
    "                                        like- Gender (male, female)\n",
    "                                              Risk (high, low, medium)\n"
   ]
  },
  {
   "cell_type": "markdown",
   "id": "78d32da5",
   "metadata": {},
   "source": [
    "### Q.4  Categorise the following datasets with respect to quantitative and qualitative data types: \n",
    "#### (i) Grading in exam: A+, A, B+, B, C+, C, D, E \n",
    "#### (ii) Colour of mangoes: yellow, green, orange, red\n",
    "#### (iii) Height data of a class: [178.9, 179, 179.5, 176, 177.2, 178.3, 175.8,...]\n",
    "#### (iv) Number of mangoes exported by a farm: [500, 600, 478, 672, ...]\n",
    "\n"
   ]
  },
  {
   "cell_type": "raw",
   "id": "e3626e1b",
   "metadata": {},
   "source": [
    "Ans- (i) Qualitative- as it can be grouped \n",
    "     (ii) Qualitative- as it can be grouped \n",
    "    (iii) Quantitative- as it is numerical data, represents some numbers\n",
    "     (iv) Quantitative- as it is numerical data, represents some numbers"
   ]
  },
  {
   "cell_type": "markdown",
   "id": "01f891e1",
   "metadata": {},
   "source": [
    "### Q5. Explain the concept of levels of measurement and give an example of a variable for each level.\n",
    "    "
   ]
  },
  {
   "cell_type": "raw",
   "id": "fe4f8b5c",
   "metadata": {},
   "source": [
    "Levels of Measurement also called scale of measurement, is how variables are measured and the realtionship b/w the information that these variables store.\n",
    "\n",
    "We have 4 levels of measurement:-\n",
    "\n",
    "1. Nominal-It contain the least amount of information, contain catagorized data\n",
    "        e.g. Gender, Name of city (labled data with mutually exclusive groups)\n",
    "\n",
    "2. Ordinal- It have catagorized and ranked data\n",
    "        e.g. Top 5 Intellegent Students of a class(ranked data),Coding Level- beginner, intermediate, pro\n",
    "\n",
    "3. Interval- It have catagorized, ranked and evenly spaced data, but don't have a true zero point\n",
    "        e.g. Temp. in celcius and fahrenheit\n",
    "\n",
    "4. Ratio- It have caatagorized, ranked and evenly spaced data, but have a true zero point\n",
    "        e.g. Temp. in Kalvin"
   ]
  },
  {
   "cell_type": "markdown",
   "id": "d4d934e5",
   "metadata": {},
   "source": [
    "### Q6. Why is it important to understand the level of measurement when analyzing data? Provide an example to illustrate your answer.\n"
   ]
  },
  {
   "cell_type": "raw",
   "id": "0618d2b5",
   "metadata": {},
   "source": [
    "Based on the level of measurement we choose appropriate stastical methods.\n",
    "\n",
    "For example- \n",
    "1.)We have data of different cities name (Nominal data) and we want to calculate the central tendency of the date      we will use Mode in this case.\n",
    "\n",
    "2.)We have data of educational background as high school, UG, PG (Ordinal data) and we want to calculate the          central tendency of the date then we use Mode, Median in this case.\n",
    "\n",
    "3.)We have data of Temp. in celcius (Interval data) and we want to calculate the central tendency of the date then    we use Arithmatic Mean, Mode and Median in this case.\n",
    "\n",
    "4.)We have data of Temp. in Kalvin (Ratio data) and we want to calculate the central tendency of the date then        we use Mode, Median, Geometric Mean and Arithmatic Mean in this case.    \n"
   ]
  },
  {
   "cell_type": "markdown",
   "id": "e3395a27",
   "metadata": {},
   "source": [
    "### Q7. How nominal data type is different from ordinal data type."
   ]
  },
  {
   "cell_type": "raw",
   "id": "48becb0a",
   "metadata": {},
   "source": [
    "Both nominal and ordinal data type are of Categorical Datatype, that have some characteristics and which can be grouped.\n",
    "\n",
    "But, Ordinal data have some order or rank while Nominal data cannot be ordered in a sensible way and cannot be measured."
   ]
  },
  {
   "cell_type": "markdown",
   "id": "021c9a43",
   "metadata": {},
   "source": [
    "### Q8. Which type of plot can be used to display data in terms of range?"
   ]
  },
  {
   "cell_type": "raw",
   "id": "73fb37e8",
   "metadata": {},
   "source": [
    "A Histogram is the best plot that can be used for data that have numeric range"
   ]
  },
  {
   "cell_type": "markdown",
   "id": "d9a1f7c0",
   "metadata": {},
   "source": [
    "### Q9. Describe the difference between descriptive and inferential statistics. Give an example of each type of statistics and explain how they are used."
   ]
  },
  {
   "cell_type": "raw",
   "id": "67818e80",
   "metadata": {},
   "source": [
    "Descriptive Statistics describes the whole data or population, while Inferential statistics gives us some pridictions about the population based on the data.\n",
    "\n",
    "Descriptive Statistics includes- Central Tendency, Variability, and Frequency Distributions\n",
    "e.g. we could use descriptive statistics to determine the average age, the age distribution, and the age standard deviation of a group of individuals if we wanted to summarize their ages.\n",
    "\n",
    "Inferential Statistics includes- Regression Analysis, Hypothesis test, Confidence Intervals\n",
    "e.g. we could use inferential statistics to assess whether there is a significant difference in the outcomes of patients who receive the drug compared to those who receive a placebo if we want to know if a new drug is effective."
   ]
  },
  {
   "cell_type": "markdown",
   "id": "5533df2d",
   "metadata": {},
   "source": [
    "### Q10. What are some common measures of central tendency and variability used in statistics? Explain how each measure can be used to describe a dataset."
   ]
  },
  {
   "cell_type": "raw",
   "id": "92260f23",
   "metadata": {},
   "source": [
    "Central tendency is used to describe where the overall center of the data lies or the center of the distribution.\n",
    "It includes- \n",
    "Mean -->that represents the average of the data\n",
    "\n",
    "Median --> that represents the middle value of the data\n",
    "\n",
    "Mode --> that represents the most frequent value of the data\n",
    "\n",
    "-------------------------------------------------------------------------------------------------------------------\n",
    "\n",
    "\n",
    "Variability or Despersion is used to describe the spreed between the numbers of the dataset.\n",
    "It includes-\n",
    "Range --> that is the difference between the lowest and highest value of the dataset\n",
    "\n",
    "Interquertile Range (IQR) --> that is the range of the middle 50% scores in a distribution [ Q3-Q1 ]\n",
    "\n",
    "Variance --> that is the average squared difference of the scores from the mean\n",
    "\n",
    "Standard deviation --> that is the average amount by which scores differ from the mean and it is the square root of                        variance"
   ]
  },
  {
   "cell_type": "code",
   "execution_count": null,
   "id": "fc9af8a8",
   "metadata": {},
   "outputs": [],
   "source": []
  }
 ],
 "metadata": {
  "kernelspec": {
   "display_name": "Python 3 (ipykernel)",
   "language": "python",
   "name": "python3"
  },
  "language_info": {
   "codemirror_mode": {
    "name": "ipython",
    "version": 3
   },
   "file_extension": ".py",
   "mimetype": "text/x-python",
   "name": "python",
   "nbconvert_exporter": "python",
   "pygments_lexer": "ipython3",
   "version": "3.9.17"
  }
 },
 "nbformat": 4,
 "nbformat_minor": 5
}
