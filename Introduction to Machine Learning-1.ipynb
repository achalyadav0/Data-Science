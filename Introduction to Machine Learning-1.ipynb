{
 "cells": [
  {
   "cell_type": "markdown",
   "id": "33187021",
   "metadata": {},
   "source": [
    "# Q1: Explain the following with examples:   AI, ML, DL"
   ]
  },
  {
   "cell_type": "code",
   "execution_count": 3,
   "id": "f42dbcf0",
   "metadata": {},
   "outputs": [],
   "source": [
    "# AI= Artificial Intellegence is a smart application that can perform its own tasks without any human intercation\n",
    "# e.g. self driving cars, robots, alexa, siri\n",
    "# ML= Machine Learning is a subset of AI, that provide stastical tools for analysing, visualizing, forcasting \n",
    "# and predicting models\n",
    "# e.g. Reccomendation System of Amazon and Netflex\n",
    "# DL= Deep Learning is the subset of ML that mimics the human brain\n",
    "# e.g. Image Recogination and Object Detection Systems"
   ]
  },
  {
   "cell_type": "markdown",
   "id": "8221061b",
   "metadata": {},
   "source": [
    "# Q2- What is Supervised learning? List some examples of Supervised  Learning."
   ]
  },
  {
   "cell_type": "code",
   "execution_count": 5,
   "id": "a5471cc7",
   "metadata": {},
   "outputs": [],
   "source": [
    "# In Supervised Learning the model is trained under the supervision, i.e. we know the dependent feature and its output, \n",
    "# we train the model with the labeled data\n",
    "# e.g. Spam filter (using Classification Technique), Car Price prediction (using Regression Technique)"
   ]
  },
  {
   "cell_type": "markdown",
   "id": "737a5781",
   "metadata": {},
   "source": [
    "# Q3- What is Unsupervised learning? List some examples of Unsupervised Learning."
   ]
  },
  {
   "cell_type": "code",
   "execution_count": 6,
   "id": "ab269995",
   "metadata": {},
   "outputs": [],
   "source": [
    "# In Unsupervised Learning the model is trained with unlabled dataset (here we don't know the output)\n",
    "# e.g. Customer Segmentation (using Clustering techniques)"
   ]
  },
  {
   "cell_type": "markdown",
   "id": "42371db1",
   "metadata": {},
   "source": [
    "# Q4- What is the difference between AI, ML and DL"
   ]
  },
  {
   "cell_type": "code",
   "execution_count": 7,
   "id": "1d3def01",
   "metadata": {},
   "outputs": [],
   "source": [
    "# AI is the broarder family consisting of ML and DL, whereas ML is the subset of AI and DL is the subset of ML.\n",
    "# AI is a computer algorithm that exhibits intelligence via decision-making. ML is an algorithm of AI that \n",
    "# assists systems to learn from different types of datasets. DL is an algorithm of ML that uses several layers\n",
    "# of neural networks to analyze data and provide output accordingly."
   ]
  },
  {
   "cell_type": "markdown",
   "id": "00f8e07d",
   "metadata": {},
   "source": [
    "# Q5- What is the main difference between Supervised, Unsupervised and Semi-supervised learning."
   ]
  },
  {
   "cell_type": "code",
   "execution_count": 8,
   "id": "4f20cf8c",
   "metadata": {},
   "outputs": [],
   "source": [
    "# In Supervised Learning we have Labeled dataset ( we know the output or we know the dependent feature)\n",
    "# In Unsupervised Learnig we have Unlabled dataset\n",
    "# Whereas Semi-supervised learning= supervised + unsupervised learning , in semi-supervised learning we use both \n",
    "# supervised and unsupervised machine learning models, like Netflex Reccomendation System that reccomend movies based \n",
    "# on the different regions of the customers"
   ]
  },
  {
   "cell_type": "markdown",
   "id": "d94e9508",
   "metadata": {},
   "source": [
    "# Q6- What is Train, Test and Validation Split? Explain the importance of each of them."
   ]
  },
  {
   "cell_type": "code",
   "execution_count": 9,
   "id": "4b2e48f5",
   "metadata": {},
   "outputs": [],
   "source": [
    "# Machine Learning is about making machines get better at some task by learning from data. We have a dataset that\n",
    "# have all the features requried for our ML model. This dataset is now divided/split into 3 parts- Train, Test and\n",
    "# Validation.\n",
    "# Train Dataset- using this dataset we will train our model\n",
    "# Validation Dataset- this dataset is used for the Hyper Tuning of the Model \n",
    "# Test Dataset- this dataset is used to test the model "
   ]
  },
  {
   "cell_type": "markdown",
   "id": "1c82fe1a",
   "metadata": {},
   "source": [
    "# Q7- How can Unsupervised Learning used for Anomaly dectiction?"
   ]
  },
  {
   "cell_type": "code",
   "execution_count": 10,
   "id": "d1f76ccf",
   "metadata": {},
   "outputs": [],
   "source": [
    "# The system is shown mostly normal instances during training, so it learns to recognize them and when it sees a new\n",
    "# instance it can tell whether it looks like a normal one or whether it is likely an anomaly \n"
   ]
  },
  {
   "cell_type": "markdown",
   "id": "e9026d18",
   "metadata": {},
   "source": [
    "# Q8- List down some commonly used Supervised and Unsupervised machine learning algorithums."
   ]
  },
  {
   "cell_type": "code",
   "execution_count": null,
   "id": "ad29ed5c",
   "metadata": {},
   "outputs": [],
   "source": [
    "# Supervised Learning Algorithms:-\n",
    "# • k-Nearest Neighbors\n",
    "# • Linear Regression\n",
    "# • Logistic Regression\n",
    "# • Support Vector Machines (SVMs)\n",
    "# • Decision Trees and Random Forests\n",
    "# • Neural networks2\n",
    "\n",
    "# Unsupervised Machine Learning Algorithums:-\n",
    "# • Clustering\n",
    "#   — K-Means\n",
    "#   — DBSCAN\n",
    "#   — Hierarchical Cluster Analysis (HCA)\n",
    "# • Anomaly detection and novelty detection \n",
    "#   — One-class SVM\n",
    "#   — Isolation Forest\n",
    "# • Visualization and dimensionality reduction \n",
    "#   — Principal Component Analysis (PCA) \n",
    "#   — Kernel PCA\n",
    "#   — Locally-Linear Embedding (LLE)\n",
    "#   — t-distributed Stochastic Neighbor Embedding (t-SNE)\n",
    "# • Association rule learning\n",
    "#   — Apriori \n",
    "#   — Eclat"
   ]
  }
 ],
 "metadata": {
  "kernelspec": {
   "display_name": "Python 3 (ipykernel)",
   "language": "python",
   "name": "python3"
  },
  "language_info": {
   "codemirror_mode": {
    "name": "ipython",
    "version": 3
   },
   "file_extension": ".py",
   "mimetype": "text/x-python",
   "name": "python",
   "nbconvert_exporter": "python",
   "pygments_lexer": "ipython3",
   "version": "3.9.16"
  }
 },
 "nbformat": 4,
 "nbformat_minor": 5
}
